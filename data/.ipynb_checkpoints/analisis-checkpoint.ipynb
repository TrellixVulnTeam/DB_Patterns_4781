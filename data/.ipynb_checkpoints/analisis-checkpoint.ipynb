{
 "cells": [
  {
   "cell_type": "code",
   "execution_count": 5,
   "metadata": {},
   "outputs": [],
   "source": [
    "import pandas as pd"
   ]
  },
  {
   "cell_type": "code",
   "execution_count": 6,
   "metadata": {},
   "outputs": [],
   "source": [
    "data = pd.read_csv(\"structured.csv\",sep=\"%\")"
   ]
  },
  {
   "cell_type": "code",
   "execution_count": 5,
   "metadata": {},
   "outputs": [
    {
     "data": {
      "text/html": [
       "<div>\n",
       "<style scoped>\n",
       "    .dataframe tbody tr th:only-of-type {\n",
       "        vertical-align: middle;\n",
       "    }\n",
       "\n",
       "    .dataframe tbody tr th {\n",
       "        vertical-align: top;\n",
       "    }\n",
       "\n",
       "    .dataframe thead th {\n",
       "        text-align: right;\n",
       "    }\n",
       "</style>\n",
       "<table border=\"1\" class=\"dataframe\">\n",
       "  <thead>\n",
       "    <tr style=\"text-align: right;\">\n",
       "      <th></th>\n",
       "      <th>USER</th>\n",
       "      <th>DATE</th>\n",
       "      <th>TIME</th>\n",
       "      <th>SQL</th>\n",
       "      <th>SQL-1</th>\n",
       "    </tr>\n",
       "  </thead>\n",
       "  <tbody>\n",
       "    <tr>\n",
       "      <th>0</th>\n",
       "      <td>USER1</td>\n",
       "      <td>18/10/18</td>\n",
       "      <td>1.12.134</td>\n",
       "      <td>CREATE USER USER1 IDENTIFIED BY  VALUES 'BBE...</td>\n",
       "      <td></td>\n",
       "    </tr>\n",
       "    <tr>\n",
       "      <th>1</th>\n",
       "      <td>USER1</td>\n",
       "      <td>18/10/18</td>\n",
       "      <td>1.14.134</td>\n",
       "      <td>CREATE TABLE \"USER1\".\"T1\"( a int, b int, c...</td>\n",
       "      <td></td>\n",
       "    </tr>\n",
       "    <tr>\n",
       "      <th>2</th>\n",
       "      <td>USER1</td>\n",
       "      <td>18/10/18</td>\n",
       "      <td>2.8.124</td>\n",
       "      <td>insert into \"USER1\".\"T1\"(\"A\",\"B\",\"C\") valu...</td>\n",
       "      <td>delete from \"USER1\".\"T1\" where \"A\" = '1' and...</td>\n",
       "    </tr>\n",
       "    <tr>\n",
       "      <th>3</th>\n",
       "      <td>USER1</td>\n",
       "      <td>19/10/18</td>\n",
       "      <td>10.33.1050</td>\n",
       "      <td>insert into \"USER1\".\"T1\"(\"A\",\"B\",\"C\") value...</td>\n",
       "      <td>delete from \"USER1\".\"T1\" where \"A\" = '2' and...</td>\n",
       "    </tr>\n",
       "    <tr>\n",
       "      <th>4</th>\n",
       "      <td>USER1</td>\n",
       "      <td>19/10/18</td>\n",
       "      <td>10.33.1050</td>\n",
       "      <td>insert into \"USER1\".\"T1\"(\"A\",\"B\",\"C\") value...</td>\n",
       "      <td>delete from \"USER1\".\"T1\" where \"A\" = '3' and...</td>\n",
       "    </tr>\n",
       "    <tr>\n",
       "      <th>5</th>\n",
       "      <td>USER1</td>\n",
       "      <td>19/10/18</td>\n",
       "      <td>10.33.1050</td>\n",
       "      <td>insert into \"USER1\".\"T1\"(\"A\",\"B\",\"C\") value...</td>\n",
       "      <td>delete from \"USER1\".\"T1\" where \"A\" = '4' and...</td>\n",
       "    </tr>\n",
       "  </tbody>\n",
       "</table>\n",
       "</div>"
      ],
      "text/plain": [
       "    USER       DATE         TIME  \\\n",
       "0  USER1   18/10/18     1.12.134   \n",
       "1  USER1   18/10/18     1.14.134   \n",
       "2  USER1   18/10/18      2.8.124   \n",
       "3  USER1   19/10/18   10.33.1050   \n",
       "4  USER1   19/10/18   10.33.1050   \n",
       "5  USER1   19/10/18   10.33.1050   \n",
       "\n",
       "                                                 SQL  \\\n",
       "0    CREATE USER USER1 IDENTIFIED BY  VALUES 'BBE...   \n",
       "1      CREATE TABLE \"USER1\".\"T1\"( a int, b int, c...   \n",
       "2      insert into \"USER1\".\"T1\"(\"A\",\"B\",\"C\") valu...   \n",
       "3     insert into \"USER1\".\"T1\"(\"A\",\"B\",\"C\") value...   \n",
       "4     insert into \"USER1\".\"T1\"(\"A\",\"B\",\"C\") value...   \n",
       "5     insert into \"USER1\".\"T1\"(\"A\",\"B\",\"C\") value...   \n",
       "\n",
       "                                               SQL-1  \n",
       "0                                                     \n",
       "1                                                     \n",
       "2    delete from \"USER1\".\"T1\" where \"A\" = '1' and...  \n",
       "3    delete from \"USER1\".\"T1\" where \"A\" = '2' and...  \n",
       "4    delete from \"USER1\".\"T1\" where \"A\" = '3' and...  \n",
       "5    delete from \"USER1\".\"T1\" where \"A\" = '4' and...  "
      ]
     },
     "execution_count": 5,
     "metadata": {},
     "output_type": "execute_result"
    }
   ],
   "source": [
    "data"
   ]
  },
  {
   "cell_type": "code",
   "execution_count": 9,
   "metadata": {},
   "outputs": [
    {
     "data": {
      "text/plain": [
       "Index(['USER', 'DATE', 'TIME', 'SQL', 'SQL-1'], dtype='object')"
      ]
     },
     "execution_count": 9,
     "metadata": {},
     "output_type": "execute_result"
    }
   ],
   "source": [
    "data.columns"
   ]
  },
  {
   "cell_type": "code",
   "execution_count": 15,
   "metadata": {},
   "outputs": [
    {
     "data": {
      "text/plain": [
       "<matplotlib.axes._subplots.AxesSubplot at 0x21226235b00>"
      ]
     },
     "execution_count": 15,
     "metadata": {},
     "output_type": "execute_result"
    },
    {
     "data": {
      "image/png": "[encoded data removed]",
      "text/plain": [
       "<matplotlib.figure.Figure at 0x21226136ac8>"
      ]
     },
     "metadata": {},
     "output_type": "display_data"
    }
   ],
   "source": [
    "%matplotlib inline\n",
    "data.groupby(['TIME'])['TIME'].count().plot(kind=\"bar\", x=\"TIME\")"
   ]
  },
  {
   "cell_type": "code",
   "execution_count": 16,
   "metadata": {},
   "outputs": [
    {
     "data": {
      "text/plain": [
       "<matplotlib.axes._subplots.AxesSubplot at 0x212262d1ac8>"
      ]
     },
     "execution_count": 16,
     "metadata": {},
     "output_type": "execute_result"
    },
    {
     "data": {
      "image/png": "[encoded data removed]",
      "text/plain": [
       "<matplotlib.figure.Figure at 0x212262863c8>"
      ]
     },
     "metadata": {},
     "output_type": "display_data"
    }
   ],
   "source": [
    "%matplotlib inline\n",
    "data.groupby(['DATE'])['DATE'].count().plot(kind=\"bar\", x=\"DATE\")"
   ]
  },
  {
   "cell_type": "code",
   "execution_count": null,
   "metadata": {},
   "outputs": [],
   "source": []
  }
 ],
 "metadata": {
  "kernelspec": {
   "display_name": "Python 3",
   "language": "python",
   "name": "python3"
  },
  "language_info": {
   "codemirror_mode": {
    "name": "ipython",
    "version": 3
   },
   "file_extension": ".py",
   "mimetype": "text/x-python",
   "name": "python",
   "nbconvert_exporter": "python",
   "pygments_lexer": "ipython3",
   "version": "3.6.4"
  }
 },
 "nbformat": 4,
 "nbformat_minor": 2
}
